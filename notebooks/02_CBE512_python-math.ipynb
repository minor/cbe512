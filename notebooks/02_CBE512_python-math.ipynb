{
  "cells": [
    {
      "cell_type": "markdown",
      "metadata": {
        "id": "ggBp35He2Czl"
      },
      "source": [
        "## Lecture 02: Math Review\n",
        "### CBE 512. Machine Learning in Chemical Science and Engineering.\n",
        "\n",
        "&#169; Princeton University"
      ]
    },
    {
      "cell_type": "code",
      "execution_count": null,
      "metadata": {
        "id": "spQ7HfOe12w2"
      },
      "outputs": [],
      "source": [
        "import numpy as np\n",
        "import matplotlib.pyplot as plt\n",
        "import pandas as pd\n",
        "import scipy.linalg"
      ]
    },
    {
      "cell_type": "markdown",
      "metadata": {
        "id": "n9vaHna9-BFf"
      },
      "source": [
        "## Matrices and Vectors\n",
        "\n",
        "Define a matrix and turn it into a vector."
      ]
    },
    {
      "cell_type": "code",
      "execution_count": null,
      "metadata": {
        "id": "ST6oSj6F2_T6"
      },
      "outputs": [],
      "source": [
        "A = np.array([[1,3,5],[2,4,6]])\n",
        "\n",
        "#Turn matrix into a vector\n",
        "\n",
        "###BEGIN SOLUTION\n",
        "\n",
        "###END SOLUTION"
      ]
    },
    {
      "cell_type": "markdown",
      "metadata": {
        "id": "pwjVjso2ShOa"
      },
      "source": [
        "Notice in the above that Python stores elements of arrays in row-major order. This can sometimes be important if you will be frequently accessing certain types of data together, but computers are usually smart about cache/memory access these days."
      ]
    },
    {
      "cell_type": "markdown",
      "metadata": {
        "id": "YmO7mZjCKs88"
      },
      "source": [
        "## Tensors\n",
        "Numpy arrays can effetively represent tensors."
      ]
    },
    {
      "cell_type": "code",
      "execution_count": null,
      "metadata": {
        "colab": {
          "base_uri": "https://localhost:8080/"
        },
        "id": "wLbw-mHa-aP0",
        "outputId": "067e4c78-b9e3-474e-bc87-15e141236ef3"
      },
      "outputs": [
        {
          "output_type": "stream",
          "name": "stdout",
          "text": [
            "42\n",
            "[42]\n",
            "[[42]]\n",
            "[[[42]]]\n",
            "[[[[42]]]]\n"
          ]
        }
      ],
      "source": [
        "rank0 = np.array(42).reshape(())\n",
        "rank1 = np.array(42).reshape((1))\n",
        "rank2 = np.array(42).reshape((1,1))\n",
        "rank3 = np.array(42).reshape((1,1,1))\n",
        "rank4 = np.array(42).reshape((1,1,1,1))\n",
        "\n",
        "for i in range(5):\n",
        "  print(locals()['rank{}'.format(i)])"
      ]
    },
    {
      "cell_type": "code",
      "execution_count": null,
      "metadata": {
        "id": "LMrWH4OxPpKN"
      },
      "outputs": [],
      "source": [
        "##Exercise\n",
        "#Print only the element of rank4\n",
        "###BEGIN SOLUTION\n",
        "###END SOLUTION\n"
      ]
    },
    {
      "cell_type": "markdown",
      "metadata": {
        "id": "AZldGwzcShOc"
      },
      "source": [
        "A really useful thing to be able to do is to check the shape of different arrays/tensors. As an exercise, figure out how to print the shape of the tensor in the cell below."
      ]
    },
    {
      "cell_type": "code",
      "execution_count": null,
      "metadata": {
        "id": "jtnY_nUhPs7z"
      },
      "outputs": [],
      "source": [
        "#Tensor\n",
        "T = np.array([\n",
        "              [[0,1,2,3,4],\n",
        "               [5,6,7,8,9]],\n",
        "              [[10,11,12,13,14],\n",
        "               [15,16,17,18,19]],\n",
        "              [[20,21,22,23,24],\n",
        "               [25,26,27,28,29]]\n",
        "])\n",
        "\n",
        "##What is the shape of the tensor?\n",
        "\n",
        "###BEGIN SOLUTION\n",
        "###END SOLUTION"
      ]
    },
    {
      "cell_type": "markdown",
      "metadata": {
        "id": "ZLtBCgnOZE_p"
      },
      "source": [
        "## Matrix Addition/Multiplication"
      ]
    },
    {
      "cell_type": "code",
      "execution_count": null,
      "metadata": {
        "id": "sRieDsHoWxPt"
      },
      "outputs": [],
      "source": [
        "#Addition\n",
        "A = np.array([[1,2], [3,4]])\n",
        "B = np.array([[8,7], [6,5]])\n",
        "\n",
        "C = A+B\n",
        "\n",
        "print(C)"
      ]
    },
    {
      "cell_type": "code",
      "execution_count": null,
      "metadata": {
        "id": "DVq-C1JSbrFQ"
      },
      "outputs": [],
      "source": [
        "#Multiplication\n",
        "print(np.matmul(A,B))\n",
        "print(np.dot(A,B))\n",
        "print(np.einsum('il,lj->ij',A,B))\n",
        "print(A@B)"
      ]
    },
    {
      "cell_type": "code",
      "execution_count": null,
      "metadata": {
        "id": "B66yhz_Wc2bY"
      },
      "outputs": [],
      "source": [
        "#Order matters!\n",
        "print(np.dot(B,A))"
      ]
    },
    {
      "cell_type": "markdown",
      "metadata": {
        "id": "NSP4LzrleczN"
      },
      "source": [
        "## Matrix Inverse and Transpose\n",
        "See below some functions for computing matrix inverse or to obtain transpose."
      ]
    },
    {
      "cell_type": "code",
      "execution_count": null,
      "metadata": {
        "id": "-Zbcoj5LdPi0"
      },
      "outputs": [],
      "source": [
        "A = np.array([[1,2,1],[4,4,5],[6,7,7]])\n",
        "print(A)"
      ]
    },
    {
      "cell_type": "code",
      "execution_count": null,
      "metadata": {
        "id": "Hdxd36m7epyR"
      },
      "outputs": [],
      "source": [
        "print(np.linalg.inv(A))"
      ]
    },
    {
      "cell_type": "code",
      "execution_count": null,
      "metadata": {
        "id": "JQ7GFGq8esZQ"
      },
      "outputs": [],
      "source": [
        "B = np.linalg.inv(A)\n",
        "print(np.linalg.inv(B))"
      ]
    },
    {
      "cell_type": "code",
      "execution_count": null,
      "metadata": {
        "id": "7Fpng1fLe56l"
      },
      "outputs": [],
      "source": [
        "print(A.transpose())\n",
        "print(A.T)"
      ]
    },
    {
      "cell_type": "markdown",
      "metadata": {
        "id": "CNDekYGk5D5B"
      },
      "source": [
        "*Exercise:* Use the cell below to convince yourself of the useful properties of Matrix Transpose and Inverse."
      ]
    },
    {
      "cell_type": "code",
      "execution_count": null,
      "metadata": {
        "id": "Brxn4kek5MOt"
      },
      "outputs": [],
      "source": [
        "A = np.array([[1,2,1],[4,4,5],[6,7,7]])\n",
        "B = np.array([[1,3,1],[3,4,5],[3,7,7]])\n",
        "Ainv = np.linalg.inv(A)\n",
        "Binv = np.linalg.inv(B)\n",
        "###BEGIN SOLUTION\n",
        "\n",
        "###END SOLUTION"
      ]
    },
    {
      "cell_type": "markdown",
      "metadata": {
        "id": "85Ljz6Pz7Lmg"
      },
      "source": [
        "## Systems of Linear Equations"
      ]
    },
    {
      "cell_type": "markdown",
      "metadata": {
        "id": "SnBx0xgq7PF0"
      },
      "source": [
        "Use the cell below to solve the system of equations from class. Check out `np.linalg.solve` and compare to the solution used by just using our knowledge of linear algebra and  functions we have already introduced."
      ]
    },
    {
      "cell_type": "code",
      "execution_count": null,
      "metadata": {
        "id": "bvwWMdXZ7TzP"
      },
      "outputs": [],
      "source": [
        "###BEGIN SOLUTION\n",
        "\n",
        "#Begin by setting up system\n",
        "'''The coefficients aij indicate the number of units of chemial i required to generate one unit of product j.\n",
        "\n",
        "\n",
        "x1 +x2 + x3 =4\n",
        "x1 +x2 = 3\n",
        "x2+2x3 = 3\n",
        "\n",
        "Solution: xi = [2,1,1]'''\n",
        "\n",
        "A = np.array([[1, 1, 1],[1, 1, 0],[0,1,2]])\n",
        "b = np.array([4,3,3])\n",
        "\n",
        "###END SOLUTION"
      ]
    },
    {
      "cell_type": "markdown",
      "metadata": {
        "id": "vFK3FVzftkrs"
      },
      "source": [
        "## Coal gasification.\n",
        "\n",
        "*Exercise:* Determine the rank of the matrix. Check out matrix_rank."
      ]
    },
    {
      "cell_type": "code",
      "execution_count": null,
      "metadata": {
        "id": "WVP3PhBDtrHM"
      },
      "outputs": [],
      "source": [
        "A = np.array([[-1,-1,1,1,0,0],\n",
        "              [-1,-2,0,2,1,0],\n",
        "              [-1,0,0,-2,0,1],\n",
        "              [-1,0,2,0,-1,0],\n",
        "              [0,-1,-1,1,1,0]])\n",
        "\n",
        "###BEGIN SOLUTION\n",
        "\n",
        "\n",
        "###END SOLUTION"
      ]
    },
    {
      "cell_type": "markdown",
      "metadata": {
        "id": "T68BzlFbAgk-"
      },
      "source": [
        "## Eigenvectors and Eigenvalues"
      ]
    },
    {
      "cell_type": "markdown",
      "metadata": {
        "id": "b53OIT6KBgja"
      },
      "source": [
        "*Exercise:* Determine the eigenvectors and eigenvalues for the following matrices."
      ]
    },
    {
      "cell_type": "code",
      "execution_count": null,
      "metadata": {
        "id": "2bXvnjObAiEn"
      },
      "outputs": [],
      "source": [
        "A = np.array([[4,2],[1,3]])\n",
        "B = np.array([[2,1],[0,2]])\n",
        "\n",
        "###BEGIN SOLUTION\n",
        "\n",
        "###END SOLUTION"
      ]
    },
    {
      "cell_type": "markdown",
      "metadata": {
        "id": "bjhLFGa1gqAG"
      },
      "source": [
        "## Matrix Decomposition\n",
        "*Exercise*: Using the matrix below, use python to perform cholesky, SVD, and eigendecomposition. Use the derived matrices to recover the original matrix **A**. For eigendecomposition, you may find the function `diag` useful from numpy."
      ]
    },
    {
      "cell_type": "code",
      "execution_count": null,
      "metadata": {
        "id": "RlwqcmUXfCAs"
      },
      "outputs": [],
      "source": [
        "A = np.array([[5,7,6,5],[7,10,8,7],[6,8,10,9],[5,7,9,10]])\n",
        "print(A)"
      ]
    },
    {
      "cell_type": "code",
      "execution_count": null,
      "metadata": {
        "id": "ylMjSrMEimnX"
      },
      "outputs": [],
      "source": [
        "L = np.linalg.cholesky(A)"
      ]
    },
    {
      "cell_type": "code",
      "execution_count": null,
      "metadata": {
        "id": "GsNWofHJi5RD"
      },
      "outputs": [],
      "source": [
        "u,s,vT = np.linalg.svd(A)\n"
      ]
    },
    {
      "cell_type": "code",
      "execution_count": null,
      "metadata": {
        "id": "8LrlTXWxm1ro"
      },
      "outputs": [],
      "source": [
        "e, P = np.linalg.eig(A)\n"
      ]
    },
    {
      "cell_type": "markdown",
      "metadata": {
        "id": "ENaqr2ZtDVu4"
      },
      "source": [
        "## Coal Gasification revisited.\n",
        "What are some independent chemical reactions? Use the cell below. Hint: Look up LU Factorization"
      ]
    },
    {
      "cell_type": "code",
      "execution_count": null,
      "metadata": {
        "id": "2A_702_LDipY"
      },
      "outputs": [],
      "source": [
        "A = np.array([[-1,-1,1,1,0,0],\n",
        "              [-1,-2,0,2,1,0],\n",
        "              [-1,0,0,-2,0,1],\n",
        "              [-1,0,2,0,-1,0],\n",
        "              [0,-1,-1,1,1,0]])\n",
        "###BEGIN SOLUTION\n",
        "\n",
        "###END SOLUTION"
      ]
    },
    {
      "cell_type": "code",
      "execution_count": null,
      "metadata": {
        "id": "lEj-cftrShOm"
      },
      "outputs": [],
      "source": []
    }
  ],
  "metadata": {
    "colab": {
      "provenance": []
    },
    "kernelspec": {
      "display_name": "Python 3 (ipykernel)",
      "language": "python",
      "name": "python3"
    },
    "language_info": {
      "codemirror_mode": {
        "name": "ipython",
        "version": 3
      },
      "file_extension": ".py",
      "mimetype": "text/x-python",
      "name": "python",
      "nbconvert_exporter": "python",
      "pygments_lexer": "ipython3",
      "version": "3.8.3"
    }
  },
  "nbformat": 4,
  "nbformat_minor": 0
}