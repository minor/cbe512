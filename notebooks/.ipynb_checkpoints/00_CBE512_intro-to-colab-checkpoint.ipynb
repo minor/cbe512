{
 "cells": [
  {
   "cell_type": "markdown",
   "metadata": {},
   "source": [
    "# Introduction to Google Colab\n",
    "\n",
    "The following notebook is only expected to work *if* you are using it within a Colab environment. With an appropriate python environment, it may also run."
   ]
  },
  {
   "cell_type": "markdown",
   "metadata": {
    "id": "RCRnhouelitr"
   },
   "source": [
    "# Markdown and text\n",
    "\n",
    "You can organize and provide comments/narrative within notebooks by using the text blocks. These text blocks accept \"markdown\" language for formatting.\n",
    "\n",
    "You can find a brief summary of some syntax here:\n",
    "\n",
    "* [Jupyter Documentation](https://jupyter-notebook.readthedocs.io/en/stable/examples/Notebook/Working%20With%20Markdown%20Cells.html)\n",
    "* [IBM Cheatsheet](https://www.ibm.com/docs/en/watson-studio-local/1.2.3?topic=notebooks-markdown-jupyter-cheatsheet)\n",
    "\n",
    "Colab actually provides GUI to facilitate this (*pretty convenient*!)"
   ]
  },
  {
   "cell_type": "markdown",
   "metadata": {
    "id": "nskQWANko4nW"
   },
   "source": [
    "# Modules and stuff\n",
    "\n",
    "The nice thing about Colab is it just pretty much knows about the existence of things that we might like to use if you want to import them. This convenience may come at the cost of time, as Colab can be slow or require re-running stuff to get your environment set up. However, once that's done, things function pretty seamlessly. Below we show the imports of some common modules in the course."
   ]
  },
  {
   "cell_type": "code",
   "execution_count": null,
   "metadata": {
    "id": "Vv7HywcylZeO"
   },
   "outputs": [],
   "source": [
    "import numpy as np\n",
    "import hyperopt as hopt\n",
    "import pandas as pd\n",
    "from sklearn.linear_model import LinearRegression\n",
    "import math"
   ]
  },
  {
   "cell_type": "code",
   "execution_count": null,
   "metadata": {
    "colab": {
     "base_uri": "https://localhost:8080/",
     "height": 254
    },
    "id": "rVkNxeQM6JVX",
    "outputId": "098fee8a-2d2b-44f5-bd64-f1b0810bd173"
   },
   "outputs": [],
   "source": [
    "print(math.exp(3.0))\n",
    "print(np.exp(3.0))"
   ]
  },
  {
   "cell_type": "markdown",
   "metadata": {},
   "source": [
    "Notice in the above, we use `np.` or `math.` before the `exp`; this is because those functions have been reserved to live in the *namespaces* of those modules. Using this kind of referencing may seem verbose, but the benefit is that you avoid unintentionally loading in functions that may have the same name from different modules. It is also very explicit. You can also use something like `from math import *` to just wholesale allow all functions from `math` to be available without needing to specifying module. See below. The first cell should give an error. The second cell should work."
   ]
  },
  {
   "cell_type": "code",
   "execution_count": null,
   "metadata": {},
   "outputs": [],
   "source": [
    "print(exp(3.0))"
   ]
  },
  {
   "cell_type": "code",
   "execution_count": null,
   "metadata": {},
   "outputs": [],
   "source": [
    "from math import *\n",
    "print(exp(3.0))"
   ]
  },
  {
   "cell_type": "markdown",
   "metadata": {
    "id": "DI3tT_Y19WzA"
   },
   "source": [
    "# The Philosophy of Python"
   ]
  },
  {
   "cell_type": "code",
   "execution_count": null,
   "metadata": {
    "colab": {
     "base_uri": "https://localhost:8080/"
    },
    "id": "Xgc9Lvc79mln",
    "outputId": "4e8fe334-24b4-4e40-d034-40ad013b757a"
   },
   "outputs": [],
   "source": [
    "import this"
   ]
  },
  {
   "cell_type": "markdown",
   "metadata": {
    "id": "AuEKfPVL6wF8"
   },
   "source": [
    "# Stuff that is not native to Colab\n",
    "If there are modules that you would like to have that are not native to your Colab environment, you can install them using `pip` or similar commands. This is shown below for `rdkit`, which we will use in the course."
   ]
  },
  {
   "cell_type": "code",
   "execution_count": null,
   "metadata": {
    "colab": {
     "base_uri": "https://localhost:8080/"
    },
    "id": "MAQ_Uovx8wVl",
    "outputId": "96ca33bb-b0c6-4533-d92a-40c089cfa47f"
   },
   "outputs": [],
   "source": [
    "# first we will show that the module does not exist\n",
    "try:\n",
    "  import rdkit\n",
    "except ModuleNotFoundError:\n",
    "  print(\"The module does not exist.\")"
   ]
  },
  {
   "cell_type": "code",
   "execution_count": null,
   "metadata": {
    "colab": {
     "base_uri": "https://localhost:8080/"
    },
    "id": "sEsPPrJ47D2n",
    "outputId": "d391e2d8-2117-478d-a45a-084534cb778c"
   },
   "outputs": [],
   "source": [
    "!pip install rdkit-pypi"
   ]
  },
  {
   "cell_type": "code",
   "execution_count": null,
   "metadata": {
    "colab": {
     "base_uri": "https://localhost:8080/"
    },
    "id": "45LqoLdZ7Kxf",
    "outputId": "5a003c8e-33c5-4bb7-f560-9247202d5322"
   },
   "outputs": [],
   "source": [
    "import importlib.util\n",
    "import rdkit\n",
    "rdkit_spec = importlib.util.find_spec('rdkit')\n",
    "if rdkit_spec is not None:\n",
    "  print(\"The module exists!\")"
   ]
  },
  {
   "cell_type": "markdown",
   "metadata": {
    "id": "dS56n-wqR5lJ"
   },
   "source": [
    "# Examples of String Formatting"
   ]
  },
  {
   "cell_type": "code",
   "execution_count": null,
   "metadata": {
    "colab": {
     "base_uri": "https://localhost:8080/"
    },
    "id": "RJhGMTz77Ug0",
    "outputId": "a004c46f-5fc0-48a7-8330-f17187130952"
   },
   "outputs": [],
   "source": [
    "greeting = \"hello\"\n",
    "dept   = \"CBE\"\n",
    "number = 512\n",
    "print(\"%s %s %d\"%(greeting,dept,number))\n",
    "print(\"{:>10s} {:s} {:>5d}\".format(greeting,dept,number))\n",
    "print(f'{greeting} {dept} {number}')\n",
    "print(greeting + \" \" + dept + \" \" + str(number))\n",
    "print(greeting,dept,number)"
   ]
  },
  {
   "cell_type": "code",
   "execution_count": null,
   "metadata": {
    "colab": {
     "base_uri": "https://localhost:8080/"
    },
    "id": "c3KXN1XpCkiR",
    "outputId": "f5fd8bdd-d59a-41cb-9436-1efd02a7ffad"
   },
   "outputs": [],
   "source": [
    "value = np.finfo(float).eps\n",
    "print(value)\n",
    "print(f'{value:.3f}')\n",
    "print(\"{:>8.3e}\".format(value))"
   ]
  }
 ],
 "metadata": {
  "colab": {
   "provenance": []
  },
  "kernelspec": {
   "display_name": "Python 3 (ipykernel)",
   "language": "python",
   "name": "python3"
  },
  "language_info": {
   "codemirror_mode": {
    "name": "ipython",
    "version": 3
   },
   "file_extension": ".py",
   "mimetype": "text/x-python",
   "name": "python",
   "nbconvert_exporter": "python",
   "pygments_lexer": "ipython3",
   "version": "3.11.8"
  }
 },
 "nbformat": 4,
 "nbformat_minor": 4
}
